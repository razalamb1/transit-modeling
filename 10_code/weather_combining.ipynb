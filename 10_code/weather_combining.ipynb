{
 "cells": [
  {
   "cell_type": "code",
   "execution_count": 1,
   "metadata": {},
   "outputs": [],
   "source": [
    "import pandas as pd"
   ]
  },
  {
   "cell_type": "code",
   "execution_count": 2,
   "metadata": {},
   "outputs": [],
   "source": [
    "city_list = [\n",
    "    \"atlanta\",\n",
    "    \"boston\",\n",
    "    \"chicago\",\n",
    "    \"los_angeles\",\n",
    "    \"new_york\",\n",
    "    \"philadelphia\",\n",
    "    \"portland\",\n",
    "    \"san_francisco\",\n",
    "    \"washington\",\n",
    "]\n",
    "df_list = []\n",
    "for city in city_list:\n",
    "    weather = pd.read_parquet(f\"../00_source/{city}_weather.parquet\").reset_index(\n",
    "        drop=True\n",
    "    )\n",
    "    weather = weather[\n",
    "        weather[\"datatype\"].isin([\"PRCP\", \"TMAX\", \"TMIN\", \"SNOW\", \"SNWD\"])\n",
    "    ]\n",
    "    weather[\"Year\"] = pd.DatetimeIndex(weather[\"date\"]).year\n",
    "    weather[\"Month Numeric\"] = pd.DatetimeIndex(weather[\"date\"]).month\n",
    "    weather[\"Day\"] = pd.DatetimeIndex(weather[\"date\"]).day\n",
    "    weather = weather.fillna(0)\n",
    "    temp = weather.pivot_table(\n",
    "        values=\"value\",\n",
    "        index=[\"City\", \"Year\", \"Month Numeric\", \"Day\"],\n",
    "        columns=[\"datatype\"],\n",
    "    ).reset_index()\n",
    "    temp[\"Precipitation\"] = temp[\"PRCP\"] / (25.4)\n",
    "    temp[\"Snowfall\"] = temp[\"SNOW\"] / (25.4)\n",
    "    temp[\"Snow Depth\"] = temp[\"SNWD\"] / (25.4)\n",
    "    temp[\"Maximum Temperature\"] = ((temp[\"TMAX\"] / 10) * 9 / 5) + 32\n",
    "    temp[\"Minimum Temperature\"] = ((temp[\"TMAX\"] / 10) * 9 / 5) + 32\n",
    "    temp = (\n",
    "        temp.groupby([\"City\", \"Year\", \"Month Numeric\"])[\n",
    "            [\n",
    "                \"Maximum Temperature\",\n",
    "                \"Minimum Temperature\",\n",
    "                \"Precipitation\",\n",
    "                \"Snowfall\",\n",
    "                \"Snow Depth\",\n",
    "            ]\n",
    "        ]\n",
    "        .mean()\n",
    "        .reset_index()\n",
    "    )\n",
    "    df_list.append(temp)\n",
    "    pass\n"
   ]
  },
  {
   "cell_type": "code",
   "execution_count": 3,
   "metadata": {},
   "outputs": [],
   "source": [
    "weather_final = pd.concat(df_list)"
   ]
  },
  {
   "cell_type": "code",
   "execution_count": 4,
   "metadata": {},
   "outputs": [],
   "source": [
    "weather_final.to_parquet(\n",
    "    \"../20_intermediate_data/weather.parquet\", engine=\"fastparquet\"\n",
    ")"
   ]
  }
 ],
 "metadata": {
  "interpreter": {
   "hash": "84b1e2213175d1b29c0c106fcfdfa2350458511224f0b9c320f712c5e7a09711"
  },
  "kernelspec": {
   "display_name": "Python 3.9.7 64-bit ('base': conda)",
   "language": "python",
   "name": "python3"
  },
  "language_info": {
   "codemirror_mode": {
    "name": "ipython",
    "version": 3
   },
   "file_extension": ".py",
   "mimetype": "text/x-python",
   "name": "python",
   "nbconvert_exporter": "python",
   "pygments_lexer": "ipython3",
   "version": "3.9.7"
  },
  "orig_nbformat": 4
 },
 "nbformat": 4,
 "nbformat_minor": 2
}
