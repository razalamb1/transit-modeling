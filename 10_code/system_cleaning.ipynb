{
 "cells": [
  {
   "cell_type": "markdown",
   "metadata": {},
   "source": [
    "First let's get directional route miles."
   ]
  },
  {
   "cell_type": "code",
   "execution_count": 1,
   "metadata": {},
   "outputs": [],
   "source": [
    "import pandas as pd\n",
    "miles = pd.read_excel(\"../00_source/service_data.xlsx\", sheet_name=\"DRM\")\n"
   ]
  },
  {
   "cell_type": "code",
   "execution_count": 2,
   "metadata": {},
   "outputs": [],
   "source": [
    "miles = miles[miles['Agency Status'] == 'Active']"
   ]
  },
  {
   "cell_type": "code",
   "execution_count": 3,
   "metadata": {},
   "outputs": [],
   "source": [
    "keep = [\n",
    "    \"Chicago Transit Authority (CTA)\",\n",
    "    \"Los Angeles County Metropolitan Transportation Authority (LACMTA)\",\n",
    "    \"Massachusetts Bay Transportation Authority (MBTA)\",\n",
    "    \"Washington Metropolitan Area Transit Authority (WMATA)\",\n",
    "    \"MTA New York City Transit (NYCT)\",\n",
    "    \"Tri-County Metropolitan Transportation District of Oregon\",\n",
    "    \"Metropolitan Atlanta Rapid Transit Authority (MARTA)\",\n",
    "    \"San Francisco Bay Area Rapid Transit District (BART)\",\n",
    "    \"City and County of San Francisco (SFMTA)\",\n",
    "    \"Southeastern Pennsylvania Transportation Authority (SEPTA)\"\n",
    "]"
   ]
  },
  {
   "cell_type": "code",
   "execution_count": 4,
   "metadata": {},
   "outputs": [],
   "source": [
    "miles = miles[miles['Agency Name'].isin(keep)]"
   ]
  },
  {
   "cell_type": "code",
   "execution_count": 5,
   "metadata": {},
   "outputs": [],
   "source": [
    "miles = miles.drop(\n",
    "    [\n",
    "        \"Last Report Year\",\n",
    "        \"NTD ID\",\n",
    "        \"Legacy NTD ID\",\n",
    "        \"Agency Status\",\n",
    "        \"Reporter Type\",\n",
    "        \"Reporting Module\",\n",
    "        \"Census Year\",\n",
    "        \"UZA Name\",\n",
    "        \"UZA Area SQ Miles\",\n",
    "        \"UZA Population\",\n",
    "        \"2020 Status\",\n",
    "        \"Service\",\n",
    "        \"Mode Status\",\n",
    "        \"UZA\",\n",
    "        \"State\",\n",
    "    ],\n",
    "    axis=1,\n",
    ")\n",
    "miles = miles[miles[\"Mode\"].isin([\"HR\", \"LR\", \"SR\"])]\n"
   ]
  },
  {
   "cell_type": "code",
   "execution_count": 6,
   "metadata": {},
   "outputs": [],
   "source": [
    "miles.loc[\n",
    "    miles.loc[:, \"Agency Name\"]\n",
    "    == \"San Francisco Bay Area Rapid Transit District (BART)\",\n",
    "    \"City\",\n",
    "] = \"San Francisco\"\n",
    "miles.loc[\n",
    "    miles.loc[:, \"Agency Name\"] == \"MTA New York City Transit (NYCT)\",\n",
    "    \"City\",\n",
    "] = \"New York City\"\n",
    "miles.loc[\n",
    "    miles.loc[:, \"Agency Name\"]\n",
    "    == \"Washington Metropolitan Area Transit Authority (WMATA)\",\n",
    "    \"City\",\n",
    "] = \"Washington, D.C.\"\n",
    "miles.loc[\n",
    "    miles.loc[:, \"Agency Name\"] == \"City and County of San Francisco (SFMTA)\", \"Agency Name\"\n",
    "] = \"San Francisco Bay Area Rapid Transit District (BART)\"\n"
   ]
  },
  {
   "cell_type": "code",
   "execution_count": 7,
   "metadata": {},
   "outputs": [],
   "source": [
    "miles = miles.groupby([\"City\", \"Agency Name\"]).sum().reset_index()\n"
   ]
  },
  {
   "cell_type": "code",
   "execution_count": 8,
   "metadata": {},
   "outputs": [],
   "source": [
    "miles = miles.melt(\n",
    "    id_vars=[\"Agency Name\", \"City\"], value_name=\"Route Miles\", var_name=\"Year\"\n",
    ")"
   ]
  },
  {
   "cell_type": "markdown",
   "metadata": {},
   "source": [
    "Now lets do maximum vehicles operated in service."
   ]
  },
  {
   "cell_type": "code",
   "execution_count": 9,
   "metadata": {},
   "outputs": [],
   "source": [
    "vehicles = pd.read_excel(\"../00_source/service_data.xlsx\", sheet_name=\"VOMS\")\n"
   ]
  },
  {
   "cell_type": "code",
   "execution_count": 10,
   "metadata": {},
   "outputs": [],
   "source": [
    "vehicles = vehicles[vehicles['Agency Status'] == 'Active']\n",
    "vehicles = vehicles[vehicles['Agency Name'].isin(keep)]"
   ]
  },
  {
   "cell_type": "code",
   "execution_count": 11,
   "metadata": {},
   "outputs": [],
   "source": [
    "vehicles = vehicles.drop(\n",
    "    [\n",
    "        \"Last Report Year\",\n",
    "        \"NTD ID\",\n",
    "        \"Legacy NTD ID\",\n",
    "        \"Agency Status\",\n",
    "        \"Reporter Type\",\n",
    "        \"Reporting Module\",\n",
    "        \"Census Year\",\n",
    "        \"UZA Name\",\n",
    "        \"UZA Area SQ Miles\",\n",
    "        \"UZA Population\",\n",
    "        \"2020 Status\",\n",
    "        \"Service\",\n",
    "        \"Mode Status\",\n",
    "        \"UZA\",\n",
    "        \"State\",\n",
    "    ],\n",
    "    axis=1,\n",
    ")\n",
    "vehicles = vehicles[vehicles[\"Mode\"].isin([\"HR\", \"LR\", \"SR\"])]"
   ]
  },
  {
   "cell_type": "code",
   "execution_count": 12,
   "metadata": {},
   "outputs": [],
   "source": [
    "vehicles.loc[\n",
    "    vehicles.loc[:, \"Agency Name\"]\n",
    "    == \"San Francisco Bay Area Rapid Transit District (BART)\",\n",
    "    \"City\",\n",
    "] = \"San Francisco\"\n",
    "vehicles.loc[\n",
    "    vehicles.loc[:, \"Agency Name\"] == \"MTA New York City Transit (NYCT)\",\n",
    "    \"City\",\n",
    "] = \"New York City\"\n",
    "vehicles.loc[\n",
    "    vehicles.loc[:, \"Agency Name\"]\n",
    "    == \"Washington Metropolitan Area Transit Authority (WMATA)\",\n",
    "    \"City\",\n",
    "] = \"Washington, D.C.\"\n",
    "vehicles.loc[\n",
    "    vehicles.loc[:, \"Agency Name\"] == \"City and County of San Francisco (SFMTA)\", \"Agency Name\"\n",
    "] = \"San Francisco Bay Area Rapid Transit District (BART)\"\n"
   ]
  },
  {
   "cell_type": "code",
   "execution_count": 13,
   "metadata": {},
   "outputs": [],
   "source": [
    "vehicles = vehicles.groupby([\"City\", \"Agency Name\"]).sum().reset_index()"
   ]
  },
  {
   "cell_type": "code",
   "execution_count": 14,
   "metadata": {},
   "outputs": [],
   "source": [
    "vehicles = vehicles.melt(\n",
    "    id_vars=[\"Agency Name\", \"City\"], value_name=\"Vehicles\", var_name=\"Year\"\n",
    ")"
   ]
  },
  {
   "cell_type": "code",
   "execution_count": 15,
   "metadata": {},
   "outputs": [],
   "source": [
    "miles_vehicles = vehicles.merge(miles, how = 'outer', on = ['Agency Name', 'City', 'Year'], validate = \"1:1\")"
   ]
  },
  {
   "cell_type": "markdown",
   "metadata": {},
   "source": [
    "Now let's figure out average fare."
   ]
  },
  {
   "cell_type": "code",
   "execution_count": 16,
   "metadata": {},
   "outputs": [
    {
     "name": "stderr",
     "output_type": "stream",
     "text": [
      "/Users/Razalamb1/opt/miniconda3/lib/python3.9/site-packages/openpyxl/worksheet/header_footer.py:48: UserWarning: Cannot parse header or footer so it will be ignored\n",
      "  warn(\"\"\"Cannot parse header or footer so it will be ignored\"\"\")\n"
     ]
    }
   ],
   "source": [
    "trips = pd.read_excel(\"../00_source/service_data.xlsx\", sheet_name=\"UPT\")\n"
   ]
  },
  {
   "cell_type": "code",
   "execution_count": 17,
   "metadata": {},
   "outputs": [],
   "source": [
    "trips = trips[trips['Agency Status'] == 'Active']\n",
    "trips = trips[trips['Agency Name'].isin(keep)]\n",
    "trips = trips.drop(\n",
    "    [\n",
    "        \"Last Report Year\",\n",
    "        \"NTD ID\",\n",
    "        \"Legacy NTD ID\",\n",
    "        \"Agency Status\",\n",
    "        \"Reporter Type\",\n",
    "        \"Reporting Module\",\n",
    "        \"Census Year\",\n",
    "        \"UZA Name\",\n",
    "        \"UZA Area SQ Miles\",\n",
    "        \"UZA Population\",\n",
    "        \"2020 Status\",\n",
    "        \"Service\",\n",
    "        \"Mode Status\",\n",
    "        \"UZA\",\n",
    "        \"State\",\n",
    "    ],\n",
    "    axis=1,\n",
    ")\n",
    "trips = trips[trips[\"Mode\"].isin([\"HR\", \"LR\", \"SR\"])]\n"
   ]
  },
  {
   "cell_type": "code",
   "execution_count": 18,
   "metadata": {},
   "outputs": [],
   "source": [
    "trips.loc[\n",
    "    trips.loc[:, \"Agency Name\"]\n",
    "    == \"San Francisco Bay Area Rapid Transit District (BART)\",\n",
    "    \"City\",\n",
    "] = \"San Francisco\"\n",
    "trips.loc[\n",
    "    trips.loc[:, \"Agency Name\"] == \"MTA New York City Transit (NYCT)\",\n",
    "    \"City\",\n",
    "] = \"New York City\"\n",
    "trips.loc[\n",
    "    trips.loc[:, \"Agency Name\"]\n",
    "    == \"Washington Metropolitan Area Transit Authority (WMATA)\",\n",
    "    \"City\",\n",
    "] = \"Washington, D.C.\"\n",
    "trips.loc[\n",
    "    trips.loc[:, \"Agency Name\"] == \"City and County of San Francisco (SFMTA)\", \"Agency Name\"\n",
    "] = \"San Francisco Bay Area Rapid Transit District (BART)\"\n",
    "trips = trips.groupby([\"City\", \"Agency Name\"]).sum().reset_index()"
   ]
  },
  {
   "cell_type": "code",
   "execution_count": 19,
   "metadata": {},
   "outputs": [],
   "source": [
    "trips = trips.melt(\n",
    "    id_vars=[\"Agency Name\", \"City\"], value_name=\"Trips\", var_name=\"Year\"\n",
    ")"
   ]
  },
  {
   "cell_type": "code",
   "execution_count": 20,
   "metadata": {},
   "outputs": [],
   "source": [
    "fares = pd.read_excel(\"../00_source/service_data.xlsx\", sheet_name=\"FARES\")\n"
   ]
  },
  {
   "cell_type": "code",
   "execution_count": 21,
   "metadata": {},
   "outputs": [],
   "source": [
    "fares = fares[fares['Agency Status'] == 'Active']\n",
    "fares = fares[fares['Agency Name'].isin(keep)]\n",
    "fares = fares.drop(\n",
    "    [\n",
    "        \"Last Report Year\",\n",
    "        \"NTD ID\",\n",
    "        \"Legacy NTD ID\",\n",
    "        \"Agency Status\",\n",
    "        \"Reporter Type\",\n",
    "        \"Reporting Module\",\n",
    "        \"Census Year\",\n",
    "        \"UZA Name\",\n",
    "        \"UZA Area SQ Miles\",\n",
    "        \"UZA Population\",\n",
    "        \"2020 Status\",\n",
    "        \"Service\",\n",
    "        \"Mode Status\",\n",
    "        \"UZA\",\n",
    "        \"State\",\n",
    "    ],\n",
    "    axis=1,\n",
    ")\n",
    "fares = fares[fares[\"Mode\"].isin([\"HR\", \"LR\", \"SR\"])]"
   ]
  },
  {
   "cell_type": "code",
   "execution_count": 22,
   "metadata": {},
   "outputs": [],
   "source": [
    "fares.loc[\n",
    "    fares.loc[:, \"Agency Name\"]\n",
    "    == \"San Francisco Bay Area Rapid Transit District (BART)\",\n",
    "    \"City\",\n",
    "] = \"San Francisco\"\n",
    "fares.loc[\n",
    "    fares.loc[:, \"Agency Name\"] == \"MTA New York City Transit (NYCT)\",\n",
    "    \"City\",\n",
    "] = \"New York City\"\n",
    "fares.loc[\n",
    "    fares.loc[:, \"Agency Name\"]\n",
    "    == \"Washington Metropolitan Area Transit Authority (WMATA)\",\n",
    "    \"City\",\n",
    "] = \"Washington, D.C.\"\n",
    "fares.loc[\n",
    "    fares.loc[:, \"Agency Name\"] == \"City and County of San Francisco (SFMTA)\", \"Agency Name\"\n",
    "] = \"San Francisco Bay Area Rapid Transit District (BART)\"\n",
    "fares = fares.groupby([\"City\", \"Agency Name\"]).sum().reset_index()\n",
    "fares = fares.melt(\n",
    "    id_vars=[\"Agency Name\", \"City\"], value_name=\"Fare Revenue\", var_name=\"Year\"\n",
    ")"
   ]
  },
  {
   "cell_type": "code",
   "execution_count": 23,
   "metadata": {},
   "outputs": [
    {
     "data": {
      "text/html": [
       "<div>\n",
       "<style scoped>\n",
       "    .dataframe tbody tr th:only-of-type {\n",
       "        vertical-align: middle;\n",
       "    }\n",
       "\n",
       "    .dataframe tbody tr th {\n",
       "        vertical-align: top;\n",
       "    }\n",
       "\n",
       "    .dataframe thead th {\n",
       "        text-align: right;\n",
       "    }\n",
       "</style>\n",
       "<table border=\"1\" class=\"dataframe\">\n",
       "  <thead>\n",
       "    <tr style=\"text-align: right;\">\n",
       "      <th></th>\n",
       "      <th>Agency Name</th>\n",
       "      <th>City</th>\n",
       "      <th>Year</th>\n",
       "      <th>Fare Revenue</th>\n",
       "    </tr>\n",
       "  </thead>\n",
       "  <tbody>\n",
       "    <tr>\n",
       "      <th>0</th>\n",
       "      <td>Metropolitan Atlanta Rapid Transit Authority (...</td>\n",
       "      <td>Atlanta</td>\n",
       "      <td>1991</td>\n",
       "      <td>0.000000e+00</td>\n",
       "    </tr>\n",
       "    <tr>\n",
       "      <th>1</th>\n",
       "      <td>Massachusetts Bay Transportation Authority (MBTA)</td>\n",
       "      <td>Boston</td>\n",
       "      <td>1991</td>\n",
       "      <td>0.000000e+00</td>\n",
       "    </tr>\n",
       "    <tr>\n",
       "      <th>2</th>\n",
       "      <td>Chicago Transit Authority (CTA)</td>\n",
       "      <td>Chicago</td>\n",
       "      <td>1991</td>\n",
       "      <td>0.000000e+00</td>\n",
       "    </tr>\n",
       "    <tr>\n",
       "      <th>3</th>\n",
       "      <td>Los Angeles County Metropolitan Transportation...</td>\n",
       "      <td>Los Angeles</td>\n",
       "      <td>1991</td>\n",
       "      <td>0.000000e+00</td>\n",
       "    </tr>\n",
       "    <tr>\n",
       "      <th>4</th>\n",
       "      <td>MTA New York City Transit (NYCT)</td>\n",
       "      <td>New York City</td>\n",
       "      <td>1991</td>\n",
       "      <td>0.000000e+00</td>\n",
       "    </tr>\n",
       "    <tr>\n",
       "      <th>...</th>\n",
       "      <td>...</td>\n",
       "      <td>...</td>\n",
       "      <td>...</td>\n",
       "      <td>...</td>\n",
       "    </tr>\n",
       "    <tr>\n",
       "      <th>265</th>\n",
       "      <td>MTA New York City Transit (NYCT)</td>\n",
       "      <td>New York City</td>\n",
       "      <td>2020</td>\n",
       "      <td>1.609954e+09</td>\n",
       "    </tr>\n",
       "    <tr>\n",
       "      <th>266</th>\n",
       "      <td>Southeastern Pennsylvania Transportation Autho...</td>\n",
       "      <td>Philadelphia</td>\n",
       "      <td>2020</td>\n",
       "      <td>1.077622e+08</td>\n",
       "    </tr>\n",
       "    <tr>\n",
       "      <th>267</th>\n",
       "      <td>Tri-County Metropolitan Transportation Distric...</td>\n",
       "      <td>Portland</td>\n",
       "      <td>2020</td>\n",
       "      <td>3.631539e+07</td>\n",
       "    </tr>\n",
       "    <tr>\n",
       "      <th>268</th>\n",
       "      <td>San Francisco Bay Area Rapid Transit District ...</td>\n",
       "      <td>San Francisco</td>\n",
       "      <td>2020</td>\n",
       "      <td>3.668912e+08</td>\n",
       "    </tr>\n",
       "    <tr>\n",
       "      <th>269</th>\n",
       "      <td>Washington Metropolitan Area Transit Authority...</td>\n",
       "      <td>Washington, D.C.</td>\n",
       "      <td>2020</td>\n",
       "      <td>4.027622e+08</td>\n",
       "    </tr>\n",
       "  </tbody>\n",
       "</table>\n",
       "<p>270 rows × 4 columns</p>\n",
       "</div>"
      ],
      "text/plain": [
       "                                           Agency Name              City  \\\n",
       "0    Metropolitan Atlanta Rapid Transit Authority (...           Atlanta   \n",
       "1    Massachusetts Bay Transportation Authority (MBTA)            Boston   \n",
       "2                      Chicago Transit Authority (CTA)           Chicago   \n",
       "3    Los Angeles County Metropolitan Transportation...       Los Angeles   \n",
       "4                     MTA New York City Transit (NYCT)     New York City   \n",
       "..                                                 ...               ...   \n",
       "265                   MTA New York City Transit (NYCT)     New York City   \n",
       "266  Southeastern Pennsylvania Transportation Autho...      Philadelphia   \n",
       "267  Tri-County Metropolitan Transportation Distric...          Portland   \n",
       "268  San Francisco Bay Area Rapid Transit District ...     San Francisco   \n",
       "269  Washington Metropolitan Area Transit Authority...  Washington, D.C.   \n",
       "\n",
       "     Year  Fare Revenue  \n",
       "0    1991  0.000000e+00  \n",
       "1    1991  0.000000e+00  \n",
       "2    1991  0.000000e+00  \n",
       "3    1991  0.000000e+00  \n",
       "4    1991  0.000000e+00  \n",
       "..    ...           ...  \n",
       "265  2020  1.609954e+09  \n",
       "266  2020  1.077622e+08  \n",
       "267  2020  3.631539e+07  \n",
       "268  2020  3.668912e+08  \n",
       "269  2020  4.027622e+08  \n",
       "\n",
       "[270 rows x 4 columns]"
      ]
     },
     "execution_count": 23,
     "metadata": {},
     "output_type": "execute_result"
    }
   ],
   "source": [
    "fares"
   ]
  },
  {
   "cell_type": "code",
   "execution_count": 24,
   "metadata": {},
   "outputs": [],
   "source": [
    "average_fare = fares.merge(\n",
    "    trips,\n",
    "    how=\"outer\",\n",
    "    on=[\"Agency Name\", \"City\", \"Year\"],\n",
    "    validate=\"1:1\",\n",
    ")\n"
   ]
  },
  {
   "cell_type": "code",
   "execution_count": 25,
   "metadata": {},
   "outputs": [],
   "source": [
    "average_fare[\"Average Fare\"] = average_fare[\"Fare Revenue\"] / average_fare[\"Trips\"]\n",
    "average_fare.drop([\"Fare Revenue\", \"Trips\"], axis=1, inplace=True)\n"
   ]
  },
  {
   "cell_type": "code",
   "execution_count": 26,
   "metadata": {},
   "outputs": [],
   "source": [
    "system_statistics = miles_vehicles.merge(\n",
    "    average_fare, how=\"outer\", on=[\"Agency Name\", \"City\", \"Year\"]\n",
    ")\n"
   ]
  },
  {
   "cell_type": "code",
   "execution_count": 27,
   "metadata": {},
   "outputs": [],
   "source": [
    "system_statistics[\"Year\"] = system_statistics[\"Year\"].astype(int)\n",
    "system_statistics = system_statistics[(system_statistics[\"Year\"] >= 2002) & (system_statistics[\"Year\"] <= 2019)]\n"
   ]
  },
  {
   "cell_type": "code",
   "execution_count": 28,
   "metadata": {},
   "outputs": [],
   "source": [
    "assert (\n",
    "    (system_statistics[\"Year\"] >= 2002) & (system_statistics[\"Year\"] <= 2019)\n",
    ").all()\n",
    "assert (system_statistics[\"Vehicles\"] > 0).all()\n",
    "assert (system_statistics[\"Route Miles\"] > 0).all()\n",
    "assert (system_statistics[\"Average Fare\"] > 0).all()\n",
    "assert not system_statistics.isnull().values.any()\n",
    "assert (system_statistics['City'].value_counts() == 18).all()\n"
   ]
  },
  {
   "cell_type": "code",
   "execution_count": 29,
   "metadata": {},
   "outputs": [],
   "source": [
    "system_statistics.to_parquet(\"../20_intermediate_data/system_statistics.parquet\", engine=\"fastparquet\")"
   ]
  }
 ],
 "metadata": {
  "interpreter": {
   "hash": "84b1e2213175d1b29c0c106fcfdfa2350458511224f0b9c320f712c5e7a09711"
  },
  "kernelspec": {
   "display_name": "Python 3.9.7 64-bit ('base': conda)",
   "language": "python",
   "name": "python3"
  },
  "language_info": {
   "codemirror_mode": {
    "name": "ipython",
    "version": 3
   },
   "file_extension": ".py",
   "mimetype": "text/x-python",
   "name": "python",
   "nbconvert_exporter": "python",
   "pygments_lexer": "ipython3",
   "version": "3.9.7"
  },
  "orig_nbformat": 4
 },
 "nbformat": 4,
 "nbformat_minor": 2
}
