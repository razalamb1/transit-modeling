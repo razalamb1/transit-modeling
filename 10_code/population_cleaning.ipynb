{
 "cells": [
  {
   "cell_type": "code",
   "execution_count": 2,
   "metadata": {},
   "outputs": [],
   "source": [
    "import pandas as pd\n",
    "import numpy as np"
   ]
  },
  {
   "cell_type": "code",
   "execution_count": 3,
   "metadata": {},
   "outputs": [],
   "source": [
    "pop_2000 = pd.read_csv(\n",
    "    \"../00_source/sub-est00int.csv\",\n",
    "    encoding=\"latin-1\",\n",
    "    usecols=[\n",
    "        \"SUMLEV\",\n",
    "        \"NAME\",\n",
    "        \"STNAME\",\n",
    "        \"POPESTIMATE2002\",\n",
    "        \"POPESTIMATE2003\",\n",
    "        \"POPESTIMATE2004\",\n",
    "        \"POPESTIMATE2005\",\n",
    "        \"POPESTIMATE2006\",\n",
    "        \"POPESTIMATE2007\",\n",
    "        \"POPESTIMATE2008\",\n",
    "        \"POPESTIMATE2009\",\n",
    "    ],\n",
    ")\n",
    "pop_2010 = pd.read_csv(\n",
    "    \"../00_source/SUB-EST2020_ALL.csv\",\n",
    "    encoding=\"latin-1\",\n",
    "    usecols=[\n",
    "        \"SUMLEV\",\n",
    "        \"NAME\",\n",
    "        \"STNAME\",\n",
    "        \"POPESTIMATE2010\",\n",
    "        \"POPESTIMATE2011\",\n",
    "        \"POPESTIMATE2012\",\n",
    "        \"POPESTIMATE2013\",\n",
    "        \"POPESTIMATE2014\",\n",
    "        \"POPESTIMATE2015\",\n",
    "        \"POPESTIMATE2016\",\n",
    "        \"POPESTIMATE2017\",\n",
    "        \"POPESTIMATE2018\",\n",
    "        \"POPESTIMATE2019\",\n",
    "    ],\n",
    ")\n"
   ]
  },
  {
   "cell_type": "code",
   "execution_count": 4,
   "metadata": {},
   "outputs": [],
   "source": [
    "pop_2000 = pop_2000[pop_2000['SUMLEV'] == 162]\n",
    "pop_2010 = pop_2010[pop_2010['SUMLEV'] == 162]"
   ]
  },
  {
   "cell_type": "code",
   "execution_count": 5,
   "metadata": {},
   "outputs": [],
   "source": [
    "pop_2010[\"keep\"] = False\n",
    "pop_2000[\"keep\"] = False\n",
    "city_states = {\n",
    "    \"Atlanta city\": \"Georgia\",\n",
    "    \"Boston city\": \"Massachusetts\",\n",
    "    \"Chicago city\": \"Illinois\",\n",
    "    \"Los Angeles city\": \"California\",\n",
    "    \"New York city\": \"New York\",\n",
    "    \"Philadelphia city\": \"Pennsylvania\",\n",
    "    \"Portland city\": \"Oregon\",\n",
    "    \"San Francisco city\": \"California\",\n",
    "    \"Washington city\": \"District of Columbia\",\n",
    "}\n",
    "for key, val in city_states.items():\n",
    "    pop_2000.loc[\n",
    "        (pop_2000.loc[:, \"NAME\"] == key) & (pop_2000.loc[:, \"STNAME\"] == val), \"keep\"\n",
    "    ] = True\n",
    "    pop_2010.loc[\n",
    "        (pop_2010.loc[:, \"NAME\"] == key) & (pop_2010.loc[:, \"STNAME\"] == val), \"keep\"\n",
    "    ] = True\n",
    "    pass\n"
   ]
  },
  {
   "cell_type": "code",
   "execution_count": 6,
   "metadata": {},
   "outputs": [],
   "source": [
    "pop_2000 = pop_2000[pop_2000[\"keep\"] == True]\n",
    "pop_2010 = pop_2010[pop_2010[\"keep\"] == True]\n"
   ]
  },
  {
   "cell_type": "code",
   "execution_count": 7,
   "metadata": {},
   "outputs": [],
   "source": [
    "pop = pop_2000.merge(pop_2010, how = \"outer\", on = [\"NAME\", \"STNAME\", \"SUMLEV\", \"keep\"], indicator = True, validate=\"1:1\")"
   ]
  },
  {
   "cell_type": "code",
   "execution_count": 8,
   "metadata": {},
   "outputs": [],
   "source": [
    "pop['City'] = pop['NAME'].str.strip(' city')\n",
    "pop.loc[pop.loc[:,'City'] == 'Washington','City'] = 'Washington, D.C.'\n",
    "pop.loc[pop.loc[:,'City'] == 'New York','City'] = 'New York City'"
   ]
  },
  {
   "cell_type": "code",
   "execution_count": 9,
   "metadata": {},
   "outputs": [],
   "source": [
    "pop.drop(['SUMLEV', 'keep', '_merge', 'NAME', 'STNAME'], axis=1, inplace = True)"
   ]
  },
  {
   "cell_type": "code",
   "execution_count": 10,
   "metadata": {},
   "outputs": [],
   "source": [
    "pop = pop.melt(id_vars=[\"City\"], value_name=\"Population\", var_name=\"Year\")\n",
    "pop['Year'] = pop['Year'].str.strip('POPESTIMATE').astype(int)"
   ]
  },
  {
   "cell_type": "code",
   "execution_count": 11,
   "metadata": {},
   "outputs": [],
   "source": [
    "assert (pop['Population'] > 0).all()\n",
    "assert ((pop['Year'] >= 2002) & (pop['Year'] <= 2019)).all()\n",
    "assert (pop['City'].value_counts() == 18).all()"
   ]
  },
  {
   "cell_type": "code",
   "execution_count": 12,
   "metadata": {},
   "outputs": [],
   "source": [
    "land_area = pd.read_excel(\"../00_source/land_area.xlsx\")\n"
   ]
  },
  {
   "cell_type": "code",
   "execution_count": 13,
   "metadata": {},
   "outputs": [],
   "source": [
    "pop = pop.merge(land_area, how = 'left', on = 'City')\n",
    "pop['Population Density'] = pop[\"Population\"]/pop[\"Land area\"]\n",
    "pop.drop([\"Land area\"], axis = 1, inplace = True)"
   ]
  },
  {
   "cell_type": "code",
   "execution_count": 14,
   "metadata": {},
   "outputs": [],
   "source": [
    "unemployment = pd.read_csv('../00_source/unemployment.csv')"
   ]
  },
  {
   "cell_type": "code",
   "execution_count": 15,
   "metadata": {},
   "outputs": [],
   "source": [
    "unemployment[\"id\"] = unemployment[\"Series ID\"].str[-1:].astype(int)\n",
    "unemployment[\"City\"] = unemployment[\"Series ID\"].str[:-2].str.strip(\"0000000000000\")\n",
    "unemployment[\"id\"] = np.where(\n",
    "    unemployment[\"id\"] == 3, \"Unemployment Rate\", \"Labor Force\"\n",
    ")\n",
    "mapping = {\n",
    "    \"LAUCT0644\": \"Los Angeles\",\n",
    "    \"LAUCN06075\": \"San Francisco\",\n",
    "    \"LAUCT115\": \"Washington, D.C.\",\n",
    "    \"LAUCT1304\": \"Atlanta\",\n",
    "    \"LAUCT1714\": \"Chicago\",\n",
    "    \"LAUCT2507\": \"Boston\",\n",
    "    \"LASCT3651\": \"New York City\",\n",
    "    \"LAUCT4159\": \"Portland\",\n",
    "    \"LAUCT426\": \"Philadelphia\",\n",
    "}\n",
    "unemployment[\"City\"] = unemployment[\"City\"].map(mapping)\n"
   ]
  },
  {
   "cell_type": "code",
   "execution_count": 16,
   "metadata": {},
   "outputs": [],
   "source": [
    "months = {\n",
    "    \"Jan\": \"January\",\n",
    "    \"Feb\": \"February\",\n",
    "    \"Mar\": \"March\",\n",
    "    \"Apr\": \"April\",\n",
    "    \"May\": \"May\",\n",
    "    \"Jun\": \"June\",\n",
    "    \"Jul\": \"July\",\n",
    "    \"Aug\": \"August\",\n",
    "    \"Sep\": \"September\",\n",
    "    \"Oct\": \"October\",\n",
    "    \"Nov\": \"November\",\n",
    "    \"Dec\": \"December\",\n",
    "}\n",
    "unemployment['Month'] = unemployment['Label'].str[-3:].map(months)\n",
    "unemployment['Month Numeric'] = unemployment['Period'].str.strip(\"MO\").astype(int)\n",
    "unemployment.drop([\"Series ID\", \"Period\", \"Label\"], axis = 1, inplace = True)"
   ]
  },
  {
   "cell_type": "code",
   "execution_count": 17,
   "metadata": {},
   "outputs": [],
   "source": [
    "unemployment = unemployment.pivot_table(\n",
    "    values=\"Value\", index=[\"City\", \"Year\", \"Month\", \"Month Numeric\"], columns=[\"id\"]\n",
    ").reset_index()"
   ]
  },
  {
   "cell_type": "code",
   "execution_count": 18,
   "metadata": {},
   "outputs": [],
   "source": [
    "city_stats = pop.merge(unemployment, how = \"outer\", on = [\"City\", \"Year\"], validate=\"1:m\")"
   ]
  },
  {
   "cell_type": "code",
   "execution_count": 19,
   "metadata": {},
   "outputs": [],
   "source": [
    "gas = pd.read_csv(\"../00_source/gas.csv\")"
   ]
  },
  {
   "cell_type": "code",
   "execution_count": 20,
   "metadata": {},
   "outputs": [],
   "source": [
    "gas[\"Month Numeric\"] = gas[\"Period\"].str.strip(\"MO\").astype(int)\n",
    "gas[\"Month\"] = gas[\"Label\"].str[-3:].map(months)\n",
    "gas[\"Gas Price\"] = gas[\"Value\"]\n",
    "gas.drop([\"Series ID\", \"Period\", \"Label\", \"Value\"], axis=1, inplace=True)\n"
   ]
  },
  {
   "cell_type": "code",
   "execution_count": 21,
   "metadata": {},
   "outputs": [],
   "source": [
    "city_stats = city_stats.merge(\n",
    "    gas,\n",
    "    how=\"outer\",\n",
    "    on=[\"Year\", \"Month\", \"Month Numeric\"],\n",
    "    validate=\"m:1\",\n",
    ")\n"
   ]
  },
  {
   "cell_type": "code",
   "execution_count": 22,
   "metadata": {},
   "outputs": [],
   "source": [
    "cpi = pd.read_csv(\"../00_source/cpi.csv\")"
   ]
  },
  {
   "cell_type": "code",
   "execution_count": 23,
   "metadata": {},
   "outputs": [],
   "source": [
    "cpi['Year'] = pd.DatetimeIndex(cpi[\"Date\"]).year\n",
    "cpi['Month Numeric'] = pd.DatetimeIndex(cpi[\"Date\"]).month\n",
    "cpi['CPI'] = cpi['CPI']/177.7\n",
    "cpi.drop([\"Date\"], axis = 1, inplace=True)\n"
   ]
  },
  {
   "cell_type": "code",
   "execution_count": 24,
   "metadata": {},
   "outputs": [],
   "source": [
    "city_stats = city_stats.merge(cpi, how = \"outer\", on = [\"Year\", \"Month Numeric\"], validate = \"m:1\")"
   ]
  },
  {
   "cell_type": "code",
   "execution_count": 25,
   "metadata": {},
   "outputs": [],
   "source": [
    "city_stats.to_parquet(\n",
    "    \"../20_intermediate_data/city_statistics.parquet\", engine=\"fastparquet\"\n",
    ")\n"
   ]
  }
 ],
 "metadata": {
  "interpreter": {
   "hash": "84b1e2213175d1b29c0c106fcfdfa2350458511224f0b9c320f712c5e7a09711"
  },
  "kernelspec": {
   "display_name": "Python 3.9.7 64-bit ('base': conda)",
   "language": "python",
   "name": "python3"
  },
  "language_info": {
   "codemirror_mode": {
    "name": "ipython",
    "version": 3
   },
   "file_extension": ".py",
   "mimetype": "text/x-python",
   "name": "python",
   "nbconvert_exporter": "python",
   "pygments_lexer": "ipython3",
   "version": "3.9.7"
  },
  "orig_nbformat": 4
 },
 "nbformat": 4,
 "nbformat_minor": 2
}
