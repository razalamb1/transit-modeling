{
 "cells": [
  {
   "cell_type": "code",
   "execution_count": 1,
   "metadata": {},
   "outputs": [],
   "source": [
    "import pandas as pd\n",
    "import numpy as np"
   ]
  },
  {
   "cell_type": "code",
   "execution_count": 2,
   "metadata": {},
   "outputs": [],
   "source": [
    "city_stats = pd.read_parquet(\n",
    "    \"../20_intermediate_data/city_statistics.parquet\"\n",
    ").reset_index(drop=True)\n"
   ]
  },
  {
   "cell_type": "code",
   "execution_count": 3,
   "metadata": {},
   "outputs": [],
   "source": [
    "systems = pd.read_parquet(\n",
    "    \"../20_intermediate_data/system_statistics.parquet\"\n",
    ").reset_index(drop=True)\n"
   ]
  },
  {
   "cell_type": "code",
   "execution_count": 4,
   "metadata": {},
   "outputs": [],
   "source": [
    "trips = pd.read_parquet(\"../20_intermediate_data/trips.parquet\").reset_index(drop=True)\n"
   ]
  },
  {
   "cell_type": "code",
   "execution_count": 5,
   "metadata": {},
   "outputs": [],
   "source": [
    "weather = pd.read_parquet(\"../20_intermediate_data/weather.parquet\").reset_index(\n",
    "    drop=True\n",
    ")\n",
    "weather = weather.fillna(0)\n"
   ]
  },
  {
   "cell_type": "code",
   "execution_count": 6,
   "metadata": {},
   "outputs": [],
   "source": [
    "cities = city_stats.merge(systems, how=\"outer\", on=[\"City\", \"Year\"], validate = \"m:1\")\n",
    "cities[\"Average Fare\"] = cities[\"Average Fare\"] / cities[\"CPI\"]\n",
    "cities[\"Gas Price\"] = cities[\"Gas Price\"] / cities[\"CPI\"]\n"
   ]
  },
  {
   "cell_type": "code",
   "execution_count": 7,
   "metadata": {},
   "outputs": [],
   "source": [
    "trips.drop(\"Agency\", axis=1, inplace=True)\n",
    "cities.drop(\"Agency Name\", axis=1, inplace=True)\n"
   ]
  },
  {
   "cell_type": "code",
   "execution_count": 8,
   "metadata": {},
   "outputs": [],
   "source": [
    "cities = cities.merge(\n",
    "    trips, how=\"outer\", on=[\"City\", \"Month\", \"Year\", \"Month Numeric\"], validate=\"1:1\"\n",
    ")\n"
   ]
  },
  {
   "cell_type": "code",
   "execution_count": 9,
   "metadata": {},
   "outputs": [],
   "source": [
    "weather.loc[weather.loc[:, \"City\"] == \"Washington, D.C\", \"City\"] = \"Washington, D.C.\"\n"
   ]
  },
  {
   "cell_type": "code",
   "execution_count": 10,
   "metadata": {},
   "outputs": [],
   "source": [
    "final = cities.merge(\n",
    "    weather, how=\"outer\", on=[\"City\", \"Year\", \"Month Numeric\"], validate=\"1:1\"\n",
    ")\n"
   ]
  },
  {
   "cell_type": "code",
   "execution_count": 11,
   "metadata": {},
   "outputs": [],
   "source": [
    "final[\"Uber\"] = 0\n"
   ]
  },
  {
   "cell_type": "code",
   "execution_count": 12,
   "metadata": {},
   "outputs": [],
   "source": [
    "final[\"Date\"] = pd.to_datetime(\n",
    "    final[\"Year\"].astype(str) + \"-\" + final[\"Month Numeric\"].astype(str) + \"-01\"\n",
    ")\n"
   ]
  },
  {
   "cell_type": "code",
   "execution_count": 13,
   "metadata": {},
   "outputs": [],
   "source": [
    "final.loc[\n",
    "    (final.loc[:, \"Date\"] > \"2011-09-01\") & (final.loc[:, \"City\"] == \"Chicago\"),\n",
    "    \"Uber\",\n",
    "] = 1\n",
    "final.loc[\n",
    "    (final.loc[:, \"Date\"] > \"2012-08-01\") & (final.loc[:, \"City\"] == \"Atlanta\"), \"Uber\"\n",
    "] = 1\n",
    "final.loc[\n",
    "    (final.loc[:, \"Date\"] > \"2011-10-01\") & (final.loc[:, \"City\"] == \"Boston\"), \"Uber\"\n",
    "] = 1\n",
    "final.loc[\n",
    "    (final.loc[:, \"Date\"] > \"2011-06-01\") & (final.loc[:, \"City\"] == \"New York City\"),\n",
    "    \"Uber\",\n",
    "] = 1\n",
    "final.loc[\n",
    "    (final.loc[:, \"Date\"] > \"2012-01-01\")\n",
    "    & (final.loc[:, \"City\"] == \"Washington, D.C.\"),\n",
    "    \"Uber\",\n",
    "] = 1\n",
    "final.loc[\n",
    "    (final.loc[:, \"Date\"] > \"2015-01-01\") & (final.loc[:, \"City\"] == \"Portland\"), \"Uber\"\n",
    "] = 1\n",
    "final.loc[\n",
    "    (final.loc[:, \"Date\"] > \"2012-04-01\") & (final.loc[:, \"City\"] == \"Los Angeles\"),\n",
    "    \"Uber\",\n",
    "] = 1\n",
    "final.loc[\n",
    "    (final.loc[:, \"Date\"] > \"2010-06-01\") & (final.loc[:, \"City\"] == \"San Francisco\"),\n",
    "    \"Uber\",\n",
    "] = 1\n",
    "final.loc[\n",
    "    (final.loc[:, \"Date\"] > \"2012-07-01\") & (final.loc[:, \"City\"] == \"Philadelphia\"),\n",
    "    \"Uber\",\n",
    "] = 1\n"
   ]
  },
  {
   "cell_type": "code",
   "execution_count": 14,
   "metadata": {},
   "outputs": [],
   "source": [
    "final[\"Season\"] = np.NaN\n",
    "winter = [12, 1, 2]\n",
    "spring = [3, 4, 5]\n",
    "summer = [6, 7, 8]\n",
    "fall = [9, 10, 11]\n"
   ]
  },
  {
   "cell_type": "code",
   "execution_count": 15,
   "metadata": {},
   "outputs": [],
   "source": [
    "final.loc[final.loc[:, \"Month Numeric\"].isin(winter), \"Season\"] = \"Winter\"\n",
    "final.loc[final.loc[:, \"Month Numeric\"].isin(spring), \"Season\"] = \"Spring\"\n",
    "final.loc[final.loc[:, \"Month Numeric\"].isin(summer), \"Season\"] = \"Summer\"\n",
    "final.loc[final.loc[:, \"Month Numeric\"].isin(fall), \"Season\"] = \"Fall\"\n"
   ]
  },
  {
   "cell_type": "code",
   "execution_count": 16,
   "metadata": {},
   "outputs": [],
   "source": [
    "final.to_csv(\"../25_final_data/public_transportation.csv\")"
   ]
  }
 ],
 "metadata": {
  "interpreter": {
   "hash": "84b1e2213175d1b29c0c106fcfdfa2350458511224f0b9c320f712c5e7a09711"
  },
  "kernelspec": {
   "display_name": "Python 3.9.7 64-bit ('base': conda)",
   "language": "python",
   "name": "python3"
  },
  "language_info": {
   "codemirror_mode": {
    "name": "ipython",
    "version": 3
   },
   "file_extension": ".py",
   "mimetype": "text/x-python",
   "name": "python",
   "nbconvert_exporter": "python",
   "pygments_lexer": "ipython3",
   "version": "3.9.7"
  },
  "orig_nbformat": 4
 },
 "nbformat": 4,
 "nbformat_minor": 2
}
